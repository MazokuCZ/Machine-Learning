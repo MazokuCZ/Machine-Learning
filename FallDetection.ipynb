{
  "nbformat": 4,
  "nbformat_minor": 0,
  "metadata": {
    "colab": {
      "name": "FallDetection.ipynb",
      "provenance": [],
      "authorship_tag": "ABX9TyM2fmbS68fzF184u9OtQevm",
      "include_colab_link": true
    },
    "kernelspec": {
      "name": "python3",
      "display_name": "Python 3"
    },
    "language_info": {
      "name": "python"
    }
  },
  "cells": [
    {
      "cell_type": "markdown",
      "metadata": {
        "id": "view-in-github",
        "colab_type": "text"
      },
      "source": [
        "<a href=\"https://colab.research.google.com/github/MazokuCZ/Machine-Learning/blob/main/FallDetection.ipynb\" target=\"_parent\"><img src=\"https://colab.research.google.com/assets/colab-badge.svg\" alt=\"Open In Colab\"/></a>"
      ]
    },
    {
      "cell_type": "code",
      "metadata": {
        "id": "80Lkb6n7EkNw"
      },
      "source": [
        "from math import sqrt"
      ],
      "execution_count": 20,
      "outputs": []
    },
    {
      "cell_type": "code",
      "metadata": {
        "id": "Tv2uCuDZDVug"
      },
      "source": [
        "dataset = [\n",
        "  [1,2,3,2,1,3,0],\n",
        "\t[2,1,3,3,1,2,0],\n",
        "\t[1,1,2,3,2,2,0],\n",
        "\t[2,2,3,3,2,1,0],\n",
        "\t[6,5,7,5,6,7,1],\n",
        "\t[5,6,6,6,5,7,1],\n",
        "\t[5,6,7,5,7,6,1],\n",
        "\t[7,6,7,6,5,6,1]\n",
        "]"
      ],
      "execution_count": 21,
      "outputs": []
    },
    {
      "cell_type": "code",
      "metadata": {
        "id": "i-FUL2-PHN7G"
      },
      "source": [
        "testData = [[7,6,5,5,6,7,0]]"
      ],
      "execution_count": 22,
      "outputs": []
    },
    {
      "cell_type": "code",
      "metadata": {
        "id": "jwgkp3CjEoVx"
      },
      "source": [
        "def euclidean_distance(row1, row2):\n",
        "\tdistance = 0.0\n",
        "\tfor i in range(len(row1)-1):\n",
        "\t\tdistance += (row1[i] - row2[i])**2\n",
        "\treturn sqrt(distance)"
      ],
      "execution_count": 23,
      "outputs": []
    },
    {
      "cell_type": "code",
      "metadata": {
        "id": "RDCqYr8JD8QA"
      },
      "source": [
        "def get_neighbors(train, test_row, num_neighbors):\n",
        "\tdistances = list()\n",
        "\tfor train_row in train:\n",
        "\t\tdist = euclidean_distance(test_row, train_row)\n",
        "\t\tdistances.append((train_row, dist))\n",
        "\tdistances.sort(key=lambda tup: tup[1])\n",
        "\tneighbors = list()\n",
        "\tfor i in range(num_neighbors):\n",
        "\t\tneighbors.append(distances[i][0])\n",
        "\treturn neighbors"
      ],
      "execution_count": 24,
      "outputs": []
    },
    {
      "cell_type": "code",
      "metadata": {
        "id": "zQt9CC3UD9cq"
      },
      "source": [
        "def predict_classification(train, test_row, num_neighbors):\n",
        "\tneighbors = get_neighbors(train, test_row, num_neighbors)\n",
        "\toutput_values = [row[-1] for row in neighbors]\n",
        "\tprediction = max(set(output_values), key=output_values.count)\n",
        "\treturn prediction"
      ],
      "execution_count": 25,
      "outputs": []
    },
    {
      "cell_type": "code",
      "metadata": {
        "id": "mg9FFODUEWMv"
      },
      "source": [
        "prediction = predict_classification(dataset, testData[0], 3)"
      ],
      "execution_count": 26,
      "outputs": []
    },
    {
      "cell_type": "code",
      "metadata": {
        "colab": {
          "base_uri": "https://localhost:8080/"
        },
        "id": "LHJEaAZlEWyd",
        "outputId": "f0ea971f-8af9-4c96-8a05-8d48d4a50732"
      },
      "source": [
        "print('Expected %d, Got %d.' % (dataset[0][-1], prediction))"
      ],
      "execution_count": 27,
      "outputs": [
        {
          "output_type": "stream",
          "text": [
            "Expected 0, Got 1.\n"
          ],
          "name": "stdout"
        }
      ]
    }
  ]
}